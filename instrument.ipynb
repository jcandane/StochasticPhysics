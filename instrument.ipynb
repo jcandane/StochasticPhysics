{
  "cells": [
    {
      "cell_type": "markdown",
      "metadata": {
        "id": "view-in-github",
        "colab_type": "text"
      },
      "source": [
        "<a href=\"https://colab.research.google.com/github/jcandane/StochasticPhysics/blob/main/instrument.ipynb\" target=\"_parent\"><img src=\"https://colab.research.google.com/assets/colab-badge.svg\" alt=\"Open In Colab\"/></a>"
      ]
    },
    {
      "cell_type": "markdown",
      "metadata": {
        "id": "JqbPoj6PWh1p"
      },
      "source": [
        "## import stuff\n",
        "\n",
        "Also include default test cases"
      ]
    },
    {
      "cell_type": "code",
      "execution_count": null,
      "metadata": {
        "id": "CvXXy5X1Wh1r",
        "outputId": "77b3412b-1413-454e-cbbf-4b30d65f6ae5"
      },
      "outputs": [
        {
          "name": "stdout",
          "output_type": "stream",
          "text": [
            "3.0624289512634277\n"
          ]
        }
      ],
      "source": [
        "import numpy as np\n",
        "import scipy\n",
        "import gpcam\n",
        "from gpcam import AutonomousExperimenterGP\n",
        "import time\n",
        "import h5py ## https://docs.h5py.org/en/stable/quick.html\n",
        "import datetime\n",
        "\n",
        "import plotly.graph_objects as go\n",
        "def plot2d(xdata = None, ydata=None):\n",
        "    \"\"\" Plot in plotly\n",
        "    \"\"\"\n",
        "    fig = go.Figure()\n",
        "    #fig.add_trace(go.Surface(x=x, y=y, z=z))\n",
        "    if xdata is not None:\n",
        "        fig.add_trace(go.Scatter3d(x=xdata[:,0], y=xdata[:,1], z=ydata[:,0], mode='markers'))\n",
        "\n",
        "    fig.update_layout(title='Ground Truth Random-Contious 2d-Function', autosize=True, width=800, height=800, margin=dict(l=65, r=50, b=65, t=90))\n",
        "    fig.show()\n",
        "\n",
        "\n",
        "data_labels=[\"x_data\", \"y_data\", \"noise variance\", \"cost\", \"id\", \"time stamp\", \"date time\", \"measured\"]\n",
        "list_of_data=[{'x_data': np.array([3.04986762, 4.66446892]),\n",
        "  'y_data': -0.6519311743614136,\n",
        "  'noise variance': None,\n",
        "  'cost': [np.array([0, 0]), np.array([3.04986762, 4.66446892]), 7.714336536446131],\n",
        "  'id': '3b115847-cbe5-4c19-b2c9-0004455f8a52',\n",
        "  'time stamp': 1705512086.8447511,\n",
        "  'date time': '17/01/2024_11:21:26',\n",
        "  'measured': False},\n",
        " {'x_data': np.array([1.07469298, 6.04996553]),\n",
        "  'y_data': -0.13806646827231991,\n",
        "  'noise variance': None,\n",
        "  'cost': [np.array([0, 0]), np.array([1.07469298, 6.04996553]), 7.124658510619914],\n",
        "  'id': 'e343a7e8-b133-415e-a69f-6768438e6934',\n",
        "  'time stamp': 1705512086.844794,\n",
        "  'date time': '17/01/2024_11:21:26',\n",
        "  'measured': False},\n",
        " {'x_data': np.array([4.54385235, 6.1862373 ]),\n",
        "  'y_data': 0.9841470549061848,\n",
        "  'noise variance': None,\n",
        "  'cost': [np.array([0, 0]), np.array([4.54385235, 6.1862373 ]), 10.730089647376804],\n",
        "  'id': '1e7a8bc2-9e1e-4f92-b5e0-f8205b63f259',\n",
        "  'time stamp': 1705512086.844807,\n",
        "  'date time': '17/01/2024_11:21:26',\n",
        "  'measured': False},\n",
        " {'x_data': np.array([0.36948575, 7.26536243]), \"y_data\": None }]\n",
        "\n",
        "\n",
        "def instrument0(data):\n",
        "    \"\"\"\n",
        "    GIVEN : data (List[dic]) gpCAM only gives the data it is using at-the-moment\n",
        "    \"\"\"\n",
        "    for entry in data:\n",
        "        entry[\"y_data\"] = np.sin(np.linalg.norm(entry[\"x_data\"]))\n",
        "        entry[\"cost\"]   = [np.array([0,0]),entry[\"x_data\"],np.sum(entry[\"x_data\"])]\n",
        "    return data\n",
        "\n",
        "#### GP quick-test???\n",
        "START=time.time()\n",
        "my_ae = AutonomousExperimenterGP(np.array([[0,10],[0,10]]),\n",
        "                                 np.ones((3)),\n",
        "                                 np.array([[0.001,100.],[0.001,100.],[0.001,100.]]), ## limits\n",
        "                                 init_dataset_size= 20,\n",
        "                                 instrument_function = instrument0,\n",
        "                                 cost_function_parameters={\"offset\": 5.0,\"slope\":10.0},\n",
        "                                 store_inv = True)\n",
        "my_ae.train(method = \"hgdl\")      ### trains the kernel, to find optimial hyperparameters given the intiially-random data\n",
        "my_ae.go(len(my_ae.x_data) + 10)  ### runs the Autonomous Experiment\n",
        "print(time.time()-START)"
      ]
    },
    {
      "cell_type": "markdown",
      "metadata": {
        "id": "BxDa2hYbWh1s"
      },
      "source": [
        "## RCF"
      ]
    },
    {
      "cell_type": "code",
      "execution_count": null,
      "metadata": {
        "id": "YyoPPT7sWh1s"
      },
      "outputs": [],
      "source": [
        "class RCF():\n",
        "    \"\"\"\n",
        "    this an object of a random-contionus function, with-respect-to a GP kernel\n",
        "    f : IN -> OUT\n",
        "    can we be given the points?\n",
        "    a previous function to compose with?\n",
        "    Automatic Derivatives??\n",
        "    \"\"\"\n",
        "\n",
        "    def __init__(self, Domain, X, D=1, kernel=None):\n",
        "        self.domain = Domain ### numpy.2darray\n",
        "        self.D      = D      ### int (dimension of OUT)\n",
        "\n",
        "        ### get IN points\n",
        "        if isinstance(X, int): ## if X is int, then get random sampling to define function\n",
        "            self.D_ix = self.getrandom(X)\n",
        "        else: ## if X is 2d-np.array, then get uniform grid to define function\n",
        "            try:\n",
        "                self.D_ix = self.getgrid(X)\n",
        "            except:\n",
        "                raise print(\"Error\")\n",
        "\n",
        "        μ_i = np.zeros(self.D_ix.shape[0])\n",
        "\n",
        "        ### cholesky-factor\n",
        "        Σ_ij      = self.default_kernel(self.D_ix, self.D_ix)\n",
        "        self.L_ij = np.linalg.cholesky(Σ_ij) ## if using random, it might not be PSD because of point collisions...\n",
        "\n",
        "        ### calculate y-axis\n",
        "        Σ_i  = np.diag(Σ_ij)\n",
        "        D_iX = np.random.normal( μ_i[:,None]*np.ones(self.D)[None,:], Σ_i[:,None]*np.ones(self.D)[None,:], (Σ_i.shape[0],self.D) )\n",
        "        ## correlate D_iX using the Cholesky-factorization, yielding random/correlated normal-samples\n",
        "        self.D_iX = self.L_ij @ D_iX ## ~ Y N^2\n",
        "        ### careful with the kernel correlation-length this can make things no so smooth!!\n",
        "\n",
        "    def evalulate(self, D_ax):\n",
        "        \"\"\" evalulate for arbitrary values/points in OUT given points in IN\n",
        "        GIVEN   : function-values above {D_ix, D_iX, L_ij} : 2d-numpy.array\n",
        "        GET     : D_aX\n",
        "        \"\"\"\n",
        "        return self.default_kernel(D_ax, self.D_ix) @ scipy.linalg.cho_solve((self.L_ij, True), self.D_iX)\n",
        "\n",
        "    def getgrid(self, dr_x): ###! spacing: linspace or arange???!!\n",
        "        \"\"\"\n",
        "        get regular grid spacing based on dr_x\n",
        "        Get: D_ix : numpy.2darray\n",
        "        \"\"\"\n",
        "        R_ix = np.stack(np.meshgrid(*[ np.arange(self.domain[i,0], self.domain[i,1], dr_x[i]) for i in range(len(dr_x)) ]), axis=-1)\n",
        "        return R_ix.reshape((np.prod( R_ix.shape[:-1] ), R_ix.shape[-1]))\n",
        "\n",
        "    def getrandom(self, N):\n",
        "        \"\"\" perhaps use Poisson-Disc sampling algorithm to ensure PSD!\n",
        "        get random points in the domain to define the function\n",
        "        Get: D_ix : numpy.2darray\n",
        "        \"\"\"\n",
        "        return np.asarray([(element[1]-element[0])*np.random.rand(N) + element[0] for element in self.domain]).T\n",
        "\n",
        "    def default_kernel(self, R_ix, R_jx, ξ=0.1):\n",
        "        \"\"\"\n",
        "        compute kernel function (RBF) between two domain points\n",
        "\n",
        "        R_ijx = X_ix - Y_jx\n",
        "        Σ     = exp( - sum( R_ijx**2 , over=x) / ξ )\n",
        "\n",
        "        INPUT  : X (X data) : numpy.2darray\n",
        "                 Y (Y data) : numpy.2darray\n",
        "                *ξ (correlation length) : float64\n",
        "        RETURN : Σ : numpy.2darray\n",
        "        \"\"\"\n",
        "        R_ij = np.linalg.norm(R_ix[:, None, :] - R_jx[None, :, :], axis=2)\n",
        "        return np.exp( - R_ij**2 / ξ )"
      ]
    },
    {
      "cell_type": "markdown",
      "metadata": {
        "id": "bEQsyMOgWh1t"
      },
      "source": [
        "## Instrument Function"
      ]
    },
    {
      "cell_type": "code",
      "execution_count": null,
      "metadata": {
        "id": "cg_GhmQlWh1t",
        "outputId": "fd161047-7122-4d18-a3d8-363016fd5133"
      },
      "outputs": [
        {
          "data": {
            "application/vnd.plotly.v1+json": {
              "config": {
                "plotlyServerURL": "https://plot.ly"
              },
              "data": [
                {
                  "mode": "markers",
                  "type": "scatter3d",
                  "x": [
                    0,
                    0.1,
                    0.2,
                    0.30000000000000004,
                    0.4,
                    0.5,
                    0.6000000000000001,
                    0.7000000000000001,
                    0.8,
                    0.9,
                    0,
                    0.1,
                    0.2,
                    0.30000000000000004,
                    0.4,
                    0.5,
                    0.6000000000000001,
                    0.7000000000000001,
                    0.8,
                    0.9,
                    0,
                    0.1,
                    0.2,
                    0.30000000000000004,
                    0.4,
                    0.5,
                    0.6000000000000001,
                    0.7000000000000001,
                    0.8,
                    0.9,
                    0,
                    0.1,
                    0.2,
                    0.30000000000000004,
                    0.4,
                    0.5,
                    0.6000000000000001,
                    0.7000000000000001,
                    0.8,
                    0.9,
                    0,
                    0.1,
                    0.2,
                    0.30000000000000004,
                    0.4,
                    0.5,
                    0.6000000000000001,
                    0.7000000000000001,
                    0.8,
                    0.9,
                    0,
                    0.1,
                    0.2,
                    0.30000000000000004,
                    0.4,
                    0.5,
                    0.6000000000000001,
                    0.7000000000000001,
                    0.8,
                    0.9,
                    0,
                    0.1,
                    0.2,
                    0.30000000000000004,
                    0.4,
                    0.5,
                    0.6000000000000001,
                    0.7000000000000001,
                    0.8,
                    0.9,
                    0,
                    0.1,
                    0.2,
                    0.30000000000000004,
                    0.4,
                    0.5,
                    0.6000000000000001,
                    0.7000000000000001,
                    0.8,
                    0.9,
                    0,
                    0.1,
                    0.2,
                    0.30000000000000004,
                    0.4,
                    0.5,
                    0.6000000000000001,
                    0.7000000000000001,
                    0.8,
                    0.9,
                    0,
                    0.1,
                    0.2,
                    0.30000000000000004,
                    0.4,
                    0.5,
                    0.6000000000000001,
                    0.7000000000000001,
                    0.8,
                    0.9,
                    0,
                    0.1,
                    0.2,
                    0.30000000000000004,
                    0.4,
                    0.5,
                    0.6000000000000001,
                    0.7000000000000001,
                    0.8,
                    0.9,
                    0,
                    0.1,
                    0.2,
                    0.30000000000000004,
                    0.4,
                    0.5,
                    0.6000000000000001,
                    0.7000000000000001,
                    0.8,
                    0.9
                  ],
                  "y": [
                    -0.5,
                    -0.5,
                    -0.5,
                    -0.5,
                    -0.5,
                    -0.5,
                    -0.5,
                    -0.5,
                    -0.5,
                    -0.5,
                    -0.4,
                    -0.4,
                    -0.4,
                    -0.4,
                    -0.4,
                    -0.4,
                    -0.4,
                    -0.4,
                    -0.4,
                    -0.4,
                    -0.30000000000000004,
                    -0.30000000000000004,
                    -0.30000000000000004,
                    -0.30000000000000004,
                    -0.30000000000000004,
                    -0.30000000000000004,
                    -0.30000000000000004,
                    -0.30000000000000004,
                    -0.30000000000000004,
                    -0.30000000000000004,
                    -0.20000000000000007,
                    -0.20000000000000007,
                    -0.20000000000000007,
                    -0.20000000000000007,
                    -0.20000000000000007,
                    -0.20000000000000007,
                    -0.20000000000000007,
                    -0.20000000000000007,
                    -0.20000000000000007,
                    -0.20000000000000007,
                    -0.10000000000000009,
                    -0.10000000000000009,
                    -0.10000000000000009,
                    -0.10000000000000009,
                    -0.10000000000000009,
                    -0.10000000000000009,
                    -0.10000000000000009,
                    -0.10000000000000009,
                    -0.10000000000000009,
                    -0.10000000000000009,
                    -1.1102230246251565e-16,
                    -1.1102230246251565e-16,
                    -1.1102230246251565e-16,
                    -1.1102230246251565e-16,
                    -1.1102230246251565e-16,
                    -1.1102230246251565e-16,
                    -1.1102230246251565e-16,
                    -1.1102230246251565e-16,
                    -1.1102230246251565e-16,
                    -1.1102230246251565e-16,
                    0.09999999999999987,
                    0.09999999999999987,
                    0.09999999999999987,
                    0.09999999999999987,
                    0.09999999999999987,
                    0.09999999999999987,
                    0.09999999999999987,
                    0.09999999999999987,
                    0.09999999999999987,
                    0.09999999999999987,
                    0.19999999999999984,
                    0.19999999999999984,
                    0.19999999999999984,
                    0.19999999999999984,
                    0.19999999999999984,
                    0.19999999999999984,
                    0.19999999999999984,
                    0.19999999999999984,
                    0.19999999999999984,
                    0.19999999999999984,
                    0.2999999999999998,
                    0.2999999999999998,
                    0.2999999999999998,
                    0.2999999999999998,
                    0.2999999999999998,
                    0.2999999999999998,
                    0.2999999999999998,
                    0.2999999999999998,
                    0.2999999999999998,
                    0.2999999999999998,
                    0.3999999999999998,
                    0.3999999999999998,
                    0.3999999999999998,
                    0.3999999999999998,
                    0.3999999999999998,
                    0.3999999999999998,
                    0.3999999999999998,
                    0.3999999999999998,
                    0.3999999999999998,
                    0.3999999999999998,
                    0.4999999999999998,
                    0.4999999999999998,
                    0.4999999999999998,
                    0.4999999999999998,
                    0.4999999999999998,
                    0.4999999999999998,
                    0.4999999999999998,
                    0.4999999999999998,
                    0.4999999999999998,
                    0.4999999999999998,
                    0.5999999999999996,
                    0.5999999999999996,
                    0.5999999999999996,
                    0.5999999999999996,
                    0.5999999999999996,
                    0.5999999999999996,
                    0.5999999999999996,
                    0.5999999999999996,
                    0.5999999999999996,
                    0.5999999999999996
                  ],
                  "z": [
                    -1.6107975299256128,
                    -1.354756593557392,
                    -0.6225691549635456,
                    0.4055206390720873,
                    1.3967176058352642,
                    2.1334632861823764,
                    2.632533760101622,
                    2.885623708763239,
                    2.656343013110197,
                    1.8769821120321089,
                    -1.1927862413895243,
                    -0.8176685685846836,
                    -0.20875307890619332,
                    0.5540909272531221,
                    1.3760866393328661,
                    2.1569253735522187,
                    2.7356932703465366,
                    2.9146197477574898,
                    2.533857332900824,
                    1.6806609917256705,
                    -0.5498152705245,
                    -0.19360767401095713,
                    0.19633065973183883,
                    0.5811484552249168,
                    1.0971384969726872,
                    1.7423356583500702,
                    2.198054998898875,
                    2.1853282849884463,
                    1.7219305037400732,
                    1.0434864317511152,
                    0.35785390548143065,
                    0.504328918156125,
                    0.6164007396249073,
                    0.6632961741368143,
                    0.8780024104883224,
                    1.273202279604225,
                    1.4574628679964434,
                    1.1915677335573043,
                    0.6816299846586777,
                    0.27613053031454826,
                    1.213630872365678,
                    0.9883509185002778,
                    0.8260951957538326,
                    0.697031267681768,
                    0.7730337320260986,
                    0.999666230396179,
                    0.9725998431137639,
                    0.5130818571421172,
                    -0.057341706477615495,
                    -0.29354282176635016,
                    1.6656178203571756,
                    1.0334725109063252,
                    0.6300894118668201,
                    0.46950041824621414,
                    0.622528344113187,
                    0.9325998094202539,
                    0.9548760453228052,
                    0.4750099403979584,
                    -0.18568101974131146,
                    -0.4796966814071355,
                    1.7282069560968252,
                    0.8725836947075118,
                    0.3029935873043761,
                    0.13992736902874814,
                    0.43932890081768616,
                    0.9853656320203008,
                    1.262112101052641,
                    0.9185537644975006,
                    0.17070463951503234,
                    -0.3468624554558103,
                    1.617207714874171,
                    0.9454743336259921,
                    0.42118015240698503,
                    0.25941836282426745,
                    0.5600514577555116,
                    1.1418540057058728,
                    1.5200724764264104,
                    1.2640096449072016,
                    0.4691172752947059,
                    -0.21899057246303083,
                    1.3384446731908217,
                    1.2106000177198213,
                    1.023608390794934,
                    0.9858574346732882,
                    1.149686660585908,
                    1.397145840361285,
                    1.4633645601664358,
                    1.065582958556777,
                    0.2754291276693051,
                    -0.37342275864211705,
                    0.7151468060344434,
                    1.0937547199284627,
                    1.3756542547678323,
                    1.641080613332945,
                    1.739316235378111,
                    1.5434686791443983,
                    1.0956165546347871,
                    0.4550747456647366,
                    -0.2348493381273845,
                    -0.6677365636143021,
                    -0.07555071721484742,
                    0.446896371869816,
                    1.0437878918349281,
                    1.600138612451869,
                    1.7360029694435557,
                    1.274548353518564,
                    0.5049741264082843,
                    -0.18314882501667684,
                    -0.609529236921695,
                    -0.7647203199688227,
                    -0.46127640821049365,
                    -0.11140058896818822,
                    0.48778938261501736,
                    1.0876202726471655,
                    1.2045857914447715,
                    0.6417275397180295,
                    -0.16992607064312948,
                    -0.6567887323326039,
                    -0.7173632644706845,
                    -0.6404967832832711
                  ]
                }
              ],
              "layout": {
                "autosize": true,
                "height": 800,
                "margin": {
                  "b": 65,
                  "l": 65,
                  "r": 50,
                  "t": 90
                },
                "template": {
                  "data": {
                    "bar": [
                      {
                        "error_x": {
                          "color": "#2a3f5f"
                        },
                        "error_y": {
                          "color": "#2a3f5f"
                        },
                        "marker": {
                          "line": {
                            "color": "#E5ECF6",
                            "width": 0.5
                          },
                          "pattern": {
                            "fillmode": "overlay",
                            "size": 10,
                            "solidity": 0.2
                          }
                        },
                        "type": "bar"
                      }
                    ],
                    "barpolar": [
                      {
                        "marker": {
                          "line": {
                            "color": "#E5ECF6",
                            "width": 0.5
                          },
                          "pattern": {
                            "fillmode": "overlay",
                            "size": 10,
                            "solidity": 0.2
                          }
                        },
                        "type": "barpolar"
                      }
                    ],
                    "carpet": [
                      {
                        "aaxis": {
                          "endlinecolor": "#2a3f5f",
                          "gridcolor": "white",
                          "linecolor": "white",
                          "minorgridcolor": "white",
                          "startlinecolor": "#2a3f5f"
                        },
                        "baxis": {
                          "endlinecolor": "#2a3f5f",
                          "gridcolor": "white",
                          "linecolor": "white",
                          "minorgridcolor": "white",
                          "startlinecolor": "#2a3f5f"
                        },
                        "type": "carpet"
                      }
                    ],
                    "choropleth": [
                      {
                        "colorbar": {
                          "outlinewidth": 0,
                          "ticks": ""
                        },
                        "type": "choropleth"
                      }
                    ],
                    "contour": [
                      {
                        "colorbar": {
                          "outlinewidth": 0,
                          "ticks": ""
                        },
                        "colorscale": [
                          [
                            0,
                            "#0d0887"
                          ],
                          [
                            0.1111111111111111,
                            "#46039f"
                          ],
                          [
                            0.2222222222222222,
                            "#7201a8"
                          ],
                          [
                            0.3333333333333333,
                            "#9c179e"
                          ],
                          [
                            0.4444444444444444,
                            "#bd3786"
                          ],
                          [
                            0.5555555555555556,
                            "#d8576b"
                          ],
                          [
                            0.6666666666666666,
                            "#ed7953"
                          ],
                          [
                            0.7777777777777778,
                            "#fb9f3a"
                          ],
                          [
                            0.8888888888888888,
                            "#fdca26"
                          ],
                          [
                            1,
                            "#f0f921"
                          ]
                        ],
                        "type": "contour"
                      }
                    ],
                    "contourcarpet": [
                      {
                        "colorbar": {
                          "outlinewidth": 0,
                          "ticks": ""
                        },
                        "type": "contourcarpet"
                      }
                    ],
                    "heatmap": [
                      {
                        "colorbar": {
                          "outlinewidth": 0,
                          "ticks": ""
                        },
                        "colorscale": [
                          [
                            0,
                            "#0d0887"
                          ],
                          [
                            0.1111111111111111,
                            "#46039f"
                          ],
                          [
                            0.2222222222222222,
                            "#7201a8"
                          ],
                          [
                            0.3333333333333333,
                            "#9c179e"
                          ],
                          [
                            0.4444444444444444,
                            "#bd3786"
                          ],
                          [
                            0.5555555555555556,
                            "#d8576b"
                          ],
                          [
                            0.6666666666666666,
                            "#ed7953"
                          ],
                          [
                            0.7777777777777778,
                            "#fb9f3a"
                          ],
                          [
                            0.8888888888888888,
                            "#fdca26"
                          ],
                          [
                            1,
                            "#f0f921"
                          ]
                        ],
                        "type": "heatmap"
                      }
                    ],
                    "heatmapgl": [
                      {
                        "colorbar": {
                          "outlinewidth": 0,
                          "ticks": ""
                        },
                        "colorscale": [
                          [
                            0,
                            "#0d0887"
                          ],
                          [
                            0.1111111111111111,
                            "#46039f"
                          ],
                          [
                            0.2222222222222222,
                            "#7201a8"
                          ],
                          [
                            0.3333333333333333,
                            "#9c179e"
                          ],
                          [
                            0.4444444444444444,
                            "#bd3786"
                          ],
                          [
                            0.5555555555555556,
                            "#d8576b"
                          ],
                          [
                            0.6666666666666666,
                            "#ed7953"
                          ],
                          [
                            0.7777777777777778,
                            "#fb9f3a"
                          ],
                          [
                            0.8888888888888888,
                            "#fdca26"
                          ],
                          [
                            1,
                            "#f0f921"
                          ]
                        ],
                        "type": "heatmapgl"
                      }
                    ],
                    "histogram": [
                      {
                        "marker": {
                          "pattern": {
                            "fillmode": "overlay",
                            "size": 10,
                            "solidity": 0.2
                          }
                        },
                        "type": "histogram"
                      }
                    ],
                    "histogram2d": [
                      {
                        "colorbar": {
                          "outlinewidth": 0,
                          "ticks": ""
                        },
                        "colorscale": [
                          [
                            0,
                            "#0d0887"
                          ],
                          [
                            0.1111111111111111,
                            "#46039f"
                          ],
                          [
                            0.2222222222222222,
                            "#7201a8"
                          ],
                          [
                            0.3333333333333333,
                            "#9c179e"
                          ],
                          [
                            0.4444444444444444,
                            "#bd3786"
                          ],
                          [
                            0.5555555555555556,
                            "#d8576b"
                          ],
                          [
                            0.6666666666666666,
                            "#ed7953"
                          ],
                          [
                            0.7777777777777778,
                            "#fb9f3a"
                          ],
                          [
                            0.8888888888888888,
                            "#fdca26"
                          ],
                          [
                            1,
                            "#f0f921"
                          ]
                        ],
                        "type": "histogram2d"
                      }
                    ],
                    "histogram2dcontour": [
                      {
                        "colorbar": {
                          "outlinewidth": 0,
                          "ticks": ""
                        },
                        "colorscale": [
                          [
                            0,
                            "#0d0887"
                          ],
                          [
                            0.1111111111111111,
                            "#46039f"
                          ],
                          [
                            0.2222222222222222,
                            "#7201a8"
                          ],
                          [
                            0.3333333333333333,
                            "#9c179e"
                          ],
                          [
                            0.4444444444444444,
                            "#bd3786"
                          ],
                          [
                            0.5555555555555556,
                            "#d8576b"
                          ],
                          [
                            0.6666666666666666,
                            "#ed7953"
                          ],
                          [
                            0.7777777777777778,
                            "#fb9f3a"
                          ],
                          [
                            0.8888888888888888,
                            "#fdca26"
                          ],
                          [
                            1,
                            "#f0f921"
                          ]
                        ],
                        "type": "histogram2dcontour"
                      }
                    ],
                    "mesh3d": [
                      {
                        "colorbar": {
                          "outlinewidth": 0,
                          "ticks": ""
                        },
                        "type": "mesh3d"
                      }
                    ],
                    "parcoords": [
                      {
                        "line": {
                          "colorbar": {
                            "outlinewidth": 0,
                            "ticks": ""
                          }
                        },
                        "type": "parcoords"
                      }
                    ],
                    "pie": [
                      {
                        "automargin": true,
                        "type": "pie"
                      }
                    ],
                    "scatter": [
                      {
                        "fillpattern": {
                          "fillmode": "overlay",
                          "size": 10,
                          "solidity": 0.2
                        },
                        "type": "scatter"
                      }
                    ],
                    "scatter3d": [
                      {
                        "line": {
                          "colorbar": {
                            "outlinewidth": 0,
                            "ticks": ""
                          }
                        },
                        "marker": {
                          "colorbar": {
                            "outlinewidth": 0,
                            "ticks": ""
                          }
                        },
                        "type": "scatter3d"
                      }
                    ],
                    "scattercarpet": [
                      {
                        "marker": {
                          "colorbar": {
                            "outlinewidth": 0,
                            "ticks": ""
                          }
                        },
                        "type": "scattercarpet"
                      }
                    ],
                    "scattergeo": [
                      {
                        "marker": {
                          "colorbar": {
                            "outlinewidth": 0,
                            "ticks": ""
                          }
                        },
                        "type": "scattergeo"
                      }
                    ],
                    "scattergl": [
                      {
                        "marker": {
                          "colorbar": {
                            "outlinewidth": 0,
                            "ticks": ""
                          }
                        },
                        "type": "scattergl"
                      }
                    ],
                    "scattermapbox": [
                      {
                        "marker": {
                          "colorbar": {
                            "outlinewidth": 0,
                            "ticks": ""
                          }
                        },
                        "type": "scattermapbox"
                      }
                    ],
                    "scatterpolar": [
                      {
                        "marker": {
                          "colorbar": {
                            "outlinewidth": 0,
                            "ticks": ""
                          }
                        },
                        "type": "scatterpolar"
                      }
                    ],
                    "scatterpolargl": [
                      {
                        "marker": {
                          "colorbar": {
                            "outlinewidth": 0,
                            "ticks": ""
                          }
                        },
                        "type": "scatterpolargl"
                      }
                    ],
                    "scatterternary": [
                      {
                        "marker": {
                          "colorbar": {
                            "outlinewidth": 0,
                            "ticks": ""
                          }
                        },
                        "type": "scatterternary"
                      }
                    ],
                    "surface": [
                      {
                        "colorbar": {
                          "outlinewidth": 0,
                          "ticks": ""
                        },
                        "colorscale": [
                          [
                            0,
                            "#0d0887"
                          ],
                          [
                            0.1111111111111111,
                            "#46039f"
                          ],
                          [
                            0.2222222222222222,
                            "#7201a8"
                          ],
                          [
                            0.3333333333333333,
                            "#9c179e"
                          ],
                          [
                            0.4444444444444444,
                            "#bd3786"
                          ],
                          [
                            0.5555555555555556,
                            "#d8576b"
                          ],
                          [
                            0.6666666666666666,
                            "#ed7953"
                          ],
                          [
                            0.7777777777777778,
                            "#fb9f3a"
                          ],
                          [
                            0.8888888888888888,
                            "#fdca26"
                          ],
                          [
                            1,
                            "#f0f921"
                          ]
                        ],
                        "type": "surface"
                      }
                    ],
                    "table": [
                      {
                        "cells": {
                          "fill": {
                            "color": "#EBF0F8"
                          },
                          "line": {
                            "color": "white"
                          }
                        },
                        "header": {
                          "fill": {
                            "color": "#C8D4E3"
                          },
                          "line": {
                            "color": "white"
                          }
                        },
                        "type": "table"
                      }
                    ]
                  },
                  "layout": {
                    "annotationdefaults": {
                      "arrowcolor": "#2a3f5f",
                      "arrowhead": 0,
                      "arrowwidth": 1
                    },
                    "autotypenumbers": "strict",
                    "coloraxis": {
                      "colorbar": {
                        "outlinewidth": 0,
                        "ticks": ""
                      }
                    },
                    "colorscale": {
                      "diverging": [
                        [
                          0,
                          "#8e0152"
                        ],
                        [
                          0.1,
                          "#c51b7d"
                        ],
                        [
                          0.2,
                          "#de77ae"
                        ],
                        [
                          0.3,
                          "#f1b6da"
                        ],
                        [
                          0.4,
                          "#fde0ef"
                        ],
                        [
                          0.5,
                          "#f7f7f7"
                        ],
                        [
                          0.6,
                          "#e6f5d0"
                        ],
                        [
                          0.7,
                          "#b8e186"
                        ],
                        [
                          0.8,
                          "#7fbc41"
                        ],
                        [
                          0.9,
                          "#4d9221"
                        ],
                        [
                          1,
                          "#276419"
                        ]
                      ],
                      "sequential": [
                        [
                          0,
                          "#0d0887"
                        ],
                        [
                          0.1111111111111111,
                          "#46039f"
                        ],
                        [
                          0.2222222222222222,
                          "#7201a8"
                        ],
                        [
                          0.3333333333333333,
                          "#9c179e"
                        ],
                        [
                          0.4444444444444444,
                          "#bd3786"
                        ],
                        [
                          0.5555555555555556,
                          "#d8576b"
                        ],
                        [
                          0.6666666666666666,
                          "#ed7953"
                        ],
                        [
                          0.7777777777777778,
                          "#fb9f3a"
                        ],
                        [
                          0.8888888888888888,
                          "#fdca26"
                        ],
                        [
                          1,
                          "#f0f921"
                        ]
                      ],
                      "sequentialminus": [
                        [
                          0,
                          "#0d0887"
                        ],
                        [
                          0.1111111111111111,
                          "#46039f"
                        ],
                        [
                          0.2222222222222222,
                          "#7201a8"
                        ],
                        [
                          0.3333333333333333,
                          "#9c179e"
                        ],
                        [
                          0.4444444444444444,
                          "#bd3786"
                        ],
                        [
                          0.5555555555555556,
                          "#d8576b"
                        ],
                        [
                          0.6666666666666666,
                          "#ed7953"
                        ],
                        [
                          0.7777777777777778,
                          "#fb9f3a"
                        ],
                        [
                          0.8888888888888888,
                          "#fdca26"
                        ],
                        [
                          1,
                          "#f0f921"
                        ]
                      ]
                    },
                    "colorway": [
                      "#636efa",
                      "#EF553B",
                      "#00cc96",
                      "#ab63fa",
                      "#FFA15A",
                      "#19d3f3",
                      "#FF6692",
                      "#B6E880",
                      "#FF97FF",
                      "#FECB52"
                    ],
                    "font": {
                      "color": "#2a3f5f"
                    },
                    "geo": {
                      "bgcolor": "white",
                      "lakecolor": "white",
                      "landcolor": "#E5ECF6",
                      "showlakes": true,
                      "showland": true,
                      "subunitcolor": "white"
                    },
                    "hoverlabel": {
                      "align": "left"
                    },
                    "hovermode": "closest",
                    "mapbox": {
                      "style": "light"
                    },
                    "paper_bgcolor": "white",
                    "plot_bgcolor": "#E5ECF6",
                    "polar": {
                      "angularaxis": {
                        "gridcolor": "white",
                        "linecolor": "white",
                        "ticks": ""
                      },
                      "bgcolor": "#E5ECF6",
                      "radialaxis": {
                        "gridcolor": "white",
                        "linecolor": "white",
                        "ticks": ""
                      }
                    },
                    "scene": {
                      "xaxis": {
                        "backgroundcolor": "#E5ECF6",
                        "gridcolor": "white",
                        "gridwidth": 2,
                        "linecolor": "white",
                        "showbackground": true,
                        "ticks": "",
                        "zerolinecolor": "white"
                      },
                      "yaxis": {
                        "backgroundcolor": "#E5ECF6",
                        "gridcolor": "white",
                        "gridwidth": 2,
                        "linecolor": "white",
                        "showbackground": true,
                        "ticks": "",
                        "zerolinecolor": "white"
                      },
                      "zaxis": {
                        "backgroundcolor": "#E5ECF6",
                        "gridcolor": "white",
                        "gridwidth": 2,
                        "linecolor": "white",
                        "showbackground": true,
                        "ticks": "",
                        "zerolinecolor": "white"
                      }
                    },
                    "shapedefaults": {
                      "line": {
                        "color": "#2a3f5f"
                      }
                    },
                    "ternary": {
                      "aaxis": {
                        "gridcolor": "white",
                        "linecolor": "white",
                        "ticks": ""
                      },
                      "baxis": {
                        "gridcolor": "white",
                        "linecolor": "white",
                        "ticks": ""
                      },
                      "bgcolor": "#E5ECF6",
                      "caxis": {
                        "gridcolor": "white",
                        "linecolor": "white",
                        "ticks": ""
                      }
                    },
                    "title": {
                      "x": 0.05
                    },
                    "xaxis": {
                      "automargin": true,
                      "gridcolor": "white",
                      "linecolor": "white",
                      "ticks": "",
                      "title": {
                        "standoff": 15
                      },
                      "zerolinecolor": "white",
                      "zerolinewidth": 2
                    },
                    "yaxis": {
                      "automargin": true,
                      "gridcolor": "white",
                      "linecolor": "white",
                      "ticks": "",
                      "title": {
                        "standoff": 15
                      },
                      "zerolinecolor": "white",
                      "zerolinewidth": 2
                    }
                  }
                },
                "title": {
                  "text": "Ground Truth Random-Contious 2d-Function"
                },
                "width": 800
              }
            }
          },
          "metadata": {},
          "output_type": "display_data"
        }
      ],
      "source": [
        "dr_x   = np.array([0.1, 0.1])\n",
        "domain = np.array([[ 0.0, 1.0],\n",
        "                   [-0.5,  0.7]])\n",
        "f = RCF(domain, dr_x)\n",
        "\n",
        "plot2d(xdata = f.D_ix, ydata=f.D_iX)\n",
        "\n",
        "######\n",
        "def math_function(x_data):\n",
        "    #return np.sin(np.linalg.norm(x_data, axis=1))\n",
        "    return f.evalulate(x_data)\n",
        "\n",
        "\n",
        "def gpcam_to_h5(data, filename=\"to_vintrument.h5\"):\n",
        "    \"\"\"\n",
        "    this function reads gpcam's data, and creates an h5 file (to be read by the intrument)\n",
        "    GIVEN : data : List[dic]\n",
        "    \"\"\"\n",
        "\n",
        "    to_analyze=[]\n",
        "    for entry in data:\n",
        "        to_analyze.append(entry[\"x_data\"])\n",
        "    to_analyze = np.asarray(to_analyze) ## make into a np.array, D_ax\n",
        "\n",
        "    h5f = h5py.File(filename, \"w\")\n",
        "    h5f.create_dataset(\"dataset_1\", data=to_analyze)\n",
        "    h5f.close()\n",
        "    return None\n",
        "\n",
        "def h5_to_vinstrument(filename=\"to_vintrument.h5\"):\n",
        "    \"\"\"\n",
        "    this function reads a h5 file, to obtain a 2d-numpy.array (to be used by the virtual-intrument)\n",
        "    GIVEN :\n",
        "    GET   :\n",
        "    \"\"\"\n",
        "\n",
        "    h5f    = h5py.File(filename, \"r\")\n",
        "    x_data = np.asarray(h5f.get('dataset_1'))\n",
        "    h5f.close()\n",
        "\n",
        "    return x_data ### numpy.array of dimensions ( samples , coordinates ) i.e. D_ax\n",
        "\n",
        "def vinstrument_to_h5(y_data, filename=\"from_vintrument.h5\"):\n",
        "    \"\"\"\n",
        "    this function obtained the vintrument's y_data, along with other meta-data saves to an h5\n",
        "    GIVEN : y_data (D_aX)\n",
        "    \"\"\"\n",
        "\n",
        "    h5f = h5py.File(filename, \"w\")\n",
        "    h5f.create_dataset(\"dataset_1\", data=y_data)\n",
        "    h5f.close()\n",
        "    return None\n",
        "\n",
        "def h5_to_gpcam(data, filename=\"from_vintrument.h5\"):\n",
        "    \"\"\"\n",
        "    this function updates gpcam's 'data' variable (List[dic]), by reading a h5 file.\n",
        "    \"\"\"\n",
        "    h5f    = h5py.File(filename, \"r\")\n",
        "    y_data = np.asarray(h5f[\"dataset_1\"]) ## D_aX\n",
        "    h5f.close()\n",
        "\n",
        "    for a, entry in enumerate(data):\n",
        "        entry[\"y_data\"] = y_data[a]\n",
        "\n",
        "    return data\n",
        "\n",
        "def vinstrument():\n",
        "\n",
        "    x_data = h5_to_vinstrument()\n",
        "\n",
        "    y_data = math_function(x_data)\n",
        "\n",
        "    vinstrument_to_h5(y_data)\n",
        "\n",
        "    return None\n",
        "\n",
        "def instrument(data):\n",
        "\n",
        "    ### gpcam -> h5 (x-coordinates only)\n",
        "    gpcam_to_h5(data)\n",
        "\n",
        "    ### vintrument()\n",
        "    vinstrument()\n",
        "\n",
        "    ### h5 -> gpcam (everything)\n",
        "    data = h5_to_gpcam(data)\n",
        "\n",
        "    return data"
      ]
    },
    {
      "cell_type": "markdown",
      "metadata": {
        "id": "1ASy71WQWh1t"
      },
      "source": [
        "## gpCAM run with $\\texttt{vinstrument}$"
      ]
    },
    {
      "cell_type": "code",
      "execution_count": null,
      "metadata": {
        "id": "KBtN5bL0Wh1u",
        "outputId": "7936575b-944e-47b7-d0cb-b0a1cd48055d"
      },
      "outputs": [
        {
          "name": "stdout",
          "output_type": "stream",
          "text": [
            "6.871522665023804\n"
          ]
        },
        {
          "data": {
            "application/vnd.plotly.v1+json": {
              "config": {
                "plotlyServerURL": "https://plot.ly"
              },
              "data": [
                {
                  "mode": "markers",
                  "name": "RCF (ground truth)",
                  "type": "scatter3d",
                  "x": [
                    0,
                    0.1,
                    0.2,
                    0.30000000000000004,
                    0.4,
                    0.5,
                    0.6000000000000001,
                    0.7000000000000001,
                    0.8,
                    0.9,
                    0,
                    0.1,
                    0.2,
                    0.30000000000000004,
                    0.4,
                    0.5,
                    0.6000000000000001,
                    0.7000000000000001,
                    0.8,
                    0.9,
                    0,
                    0.1,
                    0.2,
                    0.30000000000000004,
                    0.4,
                    0.5,
                    0.6000000000000001,
                    0.7000000000000001,
                    0.8,
                    0.9,
                    0,
                    0.1,
                    0.2,
                    0.30000000000000004,
                    0.4,
                    0.5,
                    0.6000000000000001,
                    0.7000000000000001,
                    0.8,
                    0.9,
                    0,
                    0.1,
                    0.2,
                    0.30000000000000004,
                    0.4,
                    0.5,
                    0.6000000000000001,
                    0.7000000000000001,
                    0.8,
                    0.9,
                    0,
                    0.1,
                    0.2,
                    0.30000000000000004,
                    0.4,
                    0.5,
                    0.6000000000000001,
                    0.7000000000000001,
                    0.8,
                    0.9,
                    0,
                    0.1,
                    0.2,
                    0.30000000000000004,
                    0.4,
                    0.5,
                    0.6000000000000001,
                    0.7000000000000001,
                    0.8,
                    0.9,
                    0,
                    0.1,
                    0.2,
                    0.30000000000000004,
                    0.4,
                    0.5,
                    0.6000000000000001,
                    0.7000000000000001,
                    0.8,
                    0.9,
                    0,
                    0.1,
                    0.2,
                    0.30000000000000004,
                    0.4,
                    0.5,
                    0.6000000000000001,
                    0.7000000000000001,
                    0.8,
                    0.9,
                    0,
                    0.1,
                    0.2,
                    0.30000000000000004,
                    0.4,
                    0.5,
                    0.6000000000000001,
                    0.7000000000000001,
                    0.8,
                    0.9,
                    0,
                    0.1,
                    0.2,
                    0.30000000000000004,
                    0.4,
                    0.5,
                    0.6000000000000001,
                    0.7000000000000001,
                    0.8,
                    0.9,
                    0,
                    0.1,
                    0.2,
                    0.30000000000000004,
                    0.4,
                    0.5,
                    0.6000000000000001,
                    0.7000000000000001,
                    0.8,
                    0.9
                  ],
                  "y": [
                    -0.5,
                    -0.5,
                    -0.5,
                    -0.5,
                    -0.5,
                    -0.5,
                    -0.5,
                    -0.5,
                    -0.5,
                    -0.5,
                    -0.4,
                    -0.4,
                    -0.4,
                    -0.4,
                    -0.4,
                    -0.4,
                    -0.4,
                    -0.4,
                    -0.4,
                    -0.4,
                    -0.30000000000000004,
                    -0.30000000000000004,
                    -0.30000000000000004,
                    -0.30000000000000004,
                    -0.30000000000000004,
                    -0.30000000000000004,
                    -0.30000000000000004,
                    -0.30000000000000004,
                    -0.30000000000000004,
                    -0.30000000000000004,
                    -0.20000000000000007,
                    -0.20000000000000007,
                    -0.20000000000000007,
                    -0.20000000000000007,
                    -0.20000000000000007,
                    -0.20000000000000007,
                    -0.20000000000000007,
                    -0.20000000000000007,
                    -0.20000000000000007,
                    -0.20000000000000007,
                    -0.10000000000000009,
                    -0.10000000000000009,
                    -0.10000000000000009,
                    -0.10000000000000009,
                    -0.10000000000000009,
                    -0.10000000000000009,
                    -0.10000000000000009,
                    -0.10000000000000009,
                    -0.10000000000000009,
                    -0.10000000000000009,
                    -1.1102230246251565e-16,
                    -1.1102230246251565e-16,
                    -1.1102230246251565e-16,
                    -1.1102230246251565e-16,
                    -1.1102230246251565e-16,
                    -1.1102230246251565e-16,
                    -1.1102230246251565e-16,
                    -1.1102230246251565e-16,
                    -1.1102230246251565e-16,
                    -1.1102230246251565e-16,
                    0.09999999999999987,
                    0.09999999999999987,
                    0.09999999999999987,
                    0.09999999999999987,
                    0.09999999999999987,
                    0.09999999999999987,
                    0.09999999999999987,
                    0.09999999999999987,
                    0.09999999999999987,
                    0.09999999999999987,
                    0.19999999999999984,
                    0.19999999999999984,
                    0.19999999999999984,
                    0.19999999999999984,
                    0.19999999999999984,
                    0.19999999999999984,
                    0.19999999999999984,
                    0.19999999999999984,
                    0.19999999999999984,
                    0.19999999999999984,
                    0.2999999999999998,
                    0.2999999999999998,
                    0.2999999999999998,
                    0.2999999999999998,
                    0.2999999999999998,
                    0.2999999999999998,
                    0.2999999999999998,
                    0.2999999999999998,
                    0.2999999999999998,
                    0.2999999999999998,
                    0.3999999999999998,
                    0.3999999999999998,
                    0.3999999999999998,
                    0.3999999999999998,
                    0.3999999999999998,
                    0.3999999999999998,
                    0.3999999999999998,
                    0.3999999999999998,
                    0.3999999999999998,
                    0.3999999999999998,
                    0.4999999999999998,
                    0.4999999999999998,
                    0.4999999999999998,
                    0.4999999999999998,
                    0.4999999999999998,
                    0.4999999999999998,
                    0.4999999999999998,
                    0.4999999999999998,
                    0.4999999999999998,
                    0.4999999999999998,
                    0.5999999999999996,
                    0.5999999999999996,
                    0.5999999999999996,
                    0.5999999999999996,
                    0.5999999999999996,
                    0.5999999999999996,
                    0.5999999999999996,
                    0.5999999999999996,
                    0.5999999999999996,
                    0.5999999999999996
                  ],
                  "z": [
                    -1.6107975299256128,
                    -1.354756593557392,
                    -0.6225691549635456,
                    0.4055206390720873,
                    1.3967176058352642,
                    2.1334632861823764,
                    2.632533760101622,
                    2.885623708763239,
                    2.656343013110197,
                    1.8769821120321089,
                    -1.1927862413895243,
                    -0.8176685685846836,
                    -0.20875307890619332,
                    0.5540909272531221,
                    1.3760866393328661,
                    2.1569253735522187,
                    2.7356932703465366,
                    2.9146197477574898,
                    2.533857332900824,
                    1.6806609917256705,
                    -0.5498152705245,
                    -0.19360767401095713,
                    0.19633065973183883,
                    0.5811484552249168,
                    1.0971384969726872,
                    1.7423356583500702,
                    2.198054998898875,
                    2.1853282849884463,
                    1.7219305037400732,
                    1.0434864317511152,
                    0.35785390548143065,
                    0.504328918156125,
                    0.6164007396249073,
                    0.6632961741368143,
                    0.8780024104883224,
                    1.273202279604225,
                    1.4574628679964434,
                    1.1915677335573043,
                    0.6816299846586777,
                    0.27613053031454826,
                    1.213630872365678,
                    0.9883509185002778,
                    0.8260951957538326,
                    0.697031267681768,
                    0.7730337320260986,
                    0.999666230396179,
                    0.9725998431137639,
                    0.5130818571421172,
                    -0.057341706477615495,
                    -0.29354282176635016,
                    1.6656178203571756,
                    1.0334725109063252,
                    0.6300894118668201,
                    0.46950041824621414,
                    0.622528344113187,
                    0.9325998094202539,
                    0.9548760453228052,
                    0.4750099403979584,
                    -0.18568101974131146,
                    -0.4796966814071355,
                    1.7282069560968252,
                    0.8725836947075118,
                    0.3029935873043761,
                    0.13992736902874814,
                    0.43932890081768616,
                    0.9853656320203008,
                    1.262112101052641,
                    0.9185537644975006,
                    0.17070463951503234,
                    -0.3468624554558103,
                    1.617207714874171,
                    0.9454743336259921,
                    0.42118015240698503,
                    0.25941836282426745,
                    0.5600514577555116,
                    1.1418540057058728,
                    1.5200724764264104,
                    1.2640096449072016,
                    0.4691172752947059,
                    -0.21899057246303083,
                    1.3384446731908217,
                    1.2106000177198213,
                    1.023608390794934,
                    0.9858574346732882,
                    1.149686660585908,
                    1.397145840361285,
                    1.4633645601664358,
                    1.065582958556777,
                    0.2754291276693051,
                    -0.37342275864211705,
                    0.7151468060344434,
                    1.0937547199284627,
                    1.3756542547678323,
                    1.641080613332945,
                    1.739316235378111,
                    1.5434686791443983,
                    1.0956165546347871,
                    0.4550747456647366,
                    -0.2348493381273845,
                    -0.6677365636143021,
                    -0.07555071721484742,
                    0.446896371869816,
                    1.0437878918349281,
                    1.600138612451869,
                    1.7360029694435557,
                    1.274548353518564,
                    0.5049741264082843,
                    -0.18314882501667684,
                    -0.609529236921695,
                    -0.7647203199688227,
                    -0.46127640821049365,
                    -0.11140058896818822,
                    0.48778938261501736,
                    1.0876202726471655,
                    1.2045857914447715,
                    0.6417275397180295,
                    -0.16992607064312948,
                    -0.6567887323326039,
                    -0.7173632644706845,
                    -0.6404967832832711
                  ]
                },
                {
                  "mode": "markers",
                  "name": "gpCAM",
                  "type": "scatter3d",
                  "x": [
                    0.3658261138886505,
                    0.17265428205438305,
                    0.3972336396095758,
                    0.6323793047665781,
                    0.33007287738413593,
                    0.4199022882553174,
                    0.891470243634279,
                    0.3060194643550298,
                    0.2564897291840399,
                    0.7791667127416327,
                    0.7039729678264991,
                    0.2670649575251428,
                    0.9026627482306847,
                    0.7320636322110893,
                    0.47181175150022403,
                    0.4872133715380573,
                    0.6834831539091935,
                    0.4208318658526162,
                    0.49481631131010395,
                    0.03142676242491127,
                    0.3877757437529483,
                    0.0012826122350587665,
                    0.9963817095237106,
                    0.9984474860250108,
                    0.000028247701012618087,
                    0.0009732508553005337,
                    0.9985050299103436,
                    0.2414147529126246,
                    0.9999736981494053,
                    0.0005408412067328117,
                    0.7144083733417839,
                    0.6074669502022861,
                    0.11385199548020597,
                    0.2368110591273343,
                    0.8216743464157849,
                    0.19765627635053806,
                    0.8282981742374069,
                    0.9990236536200887,
                    0.9998247195038054,
                    0.5517061240963727,
                    0.5971706836383646,
                    0.6930537933731857,
                    0.3860085458087823,
                    0.8561650082712522,
                    0.002062100920606491,
                    0.554180956395425,
                    0.10814612270644991,
                    0.00042982094939958415,
                    0.8481797822445019,
                    0.9981152168840158,
                    0.8744409165908207,
                    0.13653821930839938,
                    0.36835192455000754,
                    0.5060831741390663,
                    0.12056102938837099,
                    0.2729160243388985,
                    0.10240970461975407,
                    0.9391995166766167,
                    0.6915703462316161,
                    0.7787245787822824
                  ],
                  "y": [
                    -0.29176956644161717,
                    0.1363810058791003,
                    -0.4562486927487812,
                    0.20816142977160978,
                    0.4116797365311742,
                    -0.38132873694998737,
                    0.047263917324671056,
                    0.3771348547568407,
                    -0.27731808273107506,
                    -0.4182837901497572,
                    0.5265428767668447,
                    0.25136392212247227,
                    -0.01538664794453709,
                    0.5063098855139745,
                    0.6314420348859158,
                    -0.026278829933983505,
                    0.6398081593313911,
                    -0.173790865095932,
                    -0.07938590814414231,
                    -0.27417620938775095,
                    0.3168556773506306,
                    0.6985188369206713,
                    0.6994621178716998,
                    -0.49970612206458265,
                    0.329137026773931,
                    -0.49973791997952244,
                    0.3468414690518103,
                    0.6998753863353363,
                    -0.24375176104356983,
                    -0.006165278707027405,
                    -0.15925425212590943,
                    -0.4998441474133799,
                    0.5132512081846721,
                    -0.057554967844761745,
                    0.28469573025102135,
                    -0.49975020594074127,
                    0.6996113574442637,
                    0.11409465794631915,
                    0.5304097379622066,
                    0.4197536608995093,
                    -0.30522411981743935,
                    0.036219897560771916,
                    0.11393178221329706,
                    -0.2642419027376236,
                    0.1623810188409029,
                    0.6992560072154175,
                    -0.1351465936508957,
                    0.5276885950627093,
                    -0.49897998763664164,
                    -0.08772887931094217,
                    0.4728838891286848,
                    0.32661548639628474,
                    0.6998076692431551,
                    0.19018781790013517,
                    -0.3802626042371521,
                    0.554477944806339,
                    0.697959180399885,
                    -0.3842849009125847,
                    0.35195444945147647,
                    0.14160582468474245
                  ],
                  "z": [
                    0.8833302734066137,
                    0.396051135399901,
                    1.4164192682859493,
                    1.523282108087301,
                    1.737989318818137,
                    1.49060854845618,
                    -0.4321430170512315,
                    1.5526458198729358,
                    0.4582321087901846,
                    2.7409401022023303,
                    -0.3475363347810685,
                    0.5863342909290026,
                    -0.47582683557095606,
                    -0.3806879512938508,
                    0.653376654667909,
                    0.9082685149045915,
                    -0.7566561844369062,
                    0.9094727690186346,
                    0.9630843340510182,
                    -0.2425628505065447,
                    1.247141523277179,
                    -0.24277018452801258,
                    -0.5994273461895716,
                    0.991474774072401,
                    1.1959293653939957,
                    -1.609581420452912,
                    -0.5621861604546439,
                    0.3812998634207361,
                    0.289667477692916,
                    1.6472810909150901,
                    0.773869817324055,
                    2.6624954600035835,
                    0.4305543393928275,
                    0.7143370682045997,
                    0.1581042913815338,
                    -0.6431884198439661,
                    -0.6099533972368647,
                    -0.2209115463385274,
                    -0.7068259950067386,
                    1.2767006664426503,
                    2.2282031185245614,
                    0.6501348863504859,
                    0.3603325205161809,
                    1.0132071158313352,
                    1.6545851346069078,
                    -0.31785765957459944,
                    0.8605587884986505,
                    -0.24328000177109743,
                    2.334564707785944,
                    -0.09009546165856364,
                    -0.7365234854937341,
                    1.2146848698504549,
                    0.7290001198865639,
                    1.1562522266846713,
                    -0.599852482032361,
                    1.2014922974554452,
                    -0.16532533361663582,
                    1.2414680397168922,
                    0.831337686696088,
                    0.5133447422626887
                  ]
                }
              ],
              "layout": {
                "autosize": true,
                "height": 800,
                "margin": {
                  "b": 65,
                  "l": 65,
                  "r": 50,
                  "t": 90
                },
                "template": {
                  "data": {
                    "bar": [
                      {
                        "error_x": {
                          "color": "#2a3f5f"
                        },
                        "error_y": {
                          "color": "#2a3f5f"
                        },
                        "marker": {
                          "line": {
                            "color": "#E5ECF6",
                            "width": 0.5
                          },
                          "pattern": {
                            "fillmode": "overlay",
                            "size": 10,
                            "solidity": 0.2
                          }
                        },
                        "type": "bar"
                      }
                    ],
                    "barpolar": [
                      {
                        "marker": {
                          "line": {
                            "color": "#E5ECF6",
                            "width": 0.5
                          },
                          "pattern": {
                            "fillmode": "overlay",
                            "size": 10,
                            "solidity": 0.2
                          }
                        },
                        "type": "barpolar"
                      }
                    ],
                    "carpet": [
                      {
                        "aaxis": {
                          "endlinecolor": "#2a3f5f",
                          "gridcolor": "white",
                          "linecolor": "white",
                          "minorgridcolor": "white",
                          "startlinecolor": "#2a3f5f"
                        },
                        "baxis": {
                          "endlinecolor": "#2a3f5f",
                          "gridcolor": "white",
                          "linecolor": "white",
                          "minorgridcolor": "white",
                          "startlinecolor": "#2a3f5f"
                        },
                        "type": "carpet"
                      }
                    ],
                    "choropleth": [
                      {
                        "colorbar": {
                          "outlinewidth": 0,
                          "ticks": ""
                        },
                        "type": "choropleth"
                      }
                    ],
                    "contour": [
                      {
                        "colorbar": {
                          "outlinewidth": 0,
                          "ticks": ""
                        },
                        "colorscale": [
                          [
                            0,
                            "#0d0887"
                          ],
                          [
                            0.1111111111111111,
                            "#46039f"
                          ],
                          [
                            0.2222222222222222,
                            "#7201a8"
                          ],
                          [
                            0.3333333333333333,
                            "#9c179e"
                          ],
                          [
                            0.4444444444444444,
                            "#bd3786"
                          ],
                          [
                            0.5555555555555556,
                            "#d8576b"
                          ],
                          [
                            0.6666666666666666,
                            "#ed7953"
                          ],
                          [
                            0.7777777777777778,
                            "#fb9f3a"
                          ],
                          [
                            0.8888888888888888,
                            "#fdca26"
                          ],
                          [
                            1,
                            "#f0f921"
                          ]
                        ],
                        "type": "contour"
                      }
                    ],
                    "contourcarpet": [
                      {
                        "colorbar": {
                          "outlinewidth": 0,
                          "ticks": ""
                        },
                        "type": "contourcarpet"
                      }
                    ],
                    "heatmap": [
                      {
                        "colorbar": {
                          "outlinewidth": 0,
                          "ticks": ""
                        },
                        "colorscale": [
                          [
                            0,
                            "#0d0887"
                          ],
                          [
                            0.1111111111111111,
                            "#46039f"
                          ],
                          [
                            0.2222222222222222,
                            "#7201a8"
                          ],
                          [
                            0.3333333333333333,
                            "#9c179e"
                          ],
                          [
                            0.4444444444444444,
                            "#bd3786"
                          ],
                          [
                            0.5555555555555556,
                            "#d8576b"
                          ],
                          [
                            0.6666666666666666,
                            "#ed7953"
                          ],
                          [
                            0.7777777777777778,
                            "#fb9f3a"
                          ],
                          [
                            0.8888888888888888,
                            "#fdca26"
                          ],
                          [
                            1,
                            "#f0f921"
                          ]
                        ],
                        "type": "heatmap"
                      }
                    ],
                    "heatmapgl": [
                      {
                        "colorbar": {
                          "outlinewidth": 0,
                          "ticks": ""
                        },
                        "colorscale": [
                          [
                            0,
                            "#0d0887"
                          ],
                          [
                            0.1111111111111111,
                            "#46039f"
                          ],
                          [
                            0.2222222222222222,
                            "#7201a8"
                          ],
                          [
                            0.3333333333333333,
                            "#9c179e"
                          ],
                          [
                            0.4444444444444444,
                            "#bd3786"
                          ],
                          [
                            0.5555555555555556,
                            "#d8576b"
                          ],
                          [
                            0.6666666666666666,
                            "#ed7953"
                          ],
                          [
                            0.7777777777777778,
                            "#fb9f3a"
                          ],
                          [
                            0.8888888888888888,
                            "#fdca26"
                          ],
                          [
                            1,
                            "#f0f921"
                          ]
                        ],
                        "type": "heatmapgl"
                      }
                    ],
                    "histogram": [
                      {
                        "marker": {
                          "pattern": {
                            "fillmode": "overlay",
                            "size": 10,
                            "solidity": 0.2
                          }
                        },
                        "type": "histogram"
                      }
                    ],
                    "histogram2d": [
                      {
                        "colorbar": {
                          "outlinewidth": 0,
                          "ticks": ""
                        },
                        "colorscale": [
                          [
                            0,
                            "#0d0887"
                          ],
                          [
                            0.1111111111111111,
                            "#46039f"
                          ],
                          [
                            0.2222222222222222,
                            "#7201a8"
                          ],
                          [
                            0.3333333333333333,
                            "#9c179e"
                          ],
                          [
                            0.4444444444444444,
                            "#bd3786"
                          ],
                          [
                            0.5555555555555556,
                            "#d8576b"
                          ],
                          [
                            0.6666666666666666,
                            "#ed7953"
                          ],
                          [
                            0.7777777777777778,
                            "#fb9f3a"
                          ],
                          [
                            0.8888888888888888,
                            "#fdca26"
                          ],
                          [
                            1,
                            "#f0f921"
                          ]
                        ],
                        "type": "histogram2d"
                      }
                    ],
                    "histogram2dcontour": [
                      {
                        "colorbar": {
                          "outlinewidth": 0,
                          "ticks": ""
                        },
                        "colorscale": [
                          [
                            0,
                            "#0d0887"
                          ],
                          [
                            0.1111111111111111,
                            "#46039f"
                          ],
                          [
                            0.2222222222222222,
                            "#7201a8"
                          ],
                          [
                            0.3333333333333333,
                            "#9c179e"
                          ],
                          [
                            0.4444444444444444,
                            "#bd3786"
                          ],
                          [
                            0.5555555555555556,
                            "#d8576b"
                          ],
                          [
                            0.6666666666666666,
                            "#ed7953"
                          ],
                          [
                            0.7777777777777778,
                            "#fb9f3a"
                          ],
                          [
                            0.8888888888888888,
                            "#fdca26"
                          ],
                          [
                            1,
                            "#f0f921"
                          ]
                        ],
                        "type": "histogram2dcontour"
                      }
                    ],
                    "mesh3d": [
                      {
                        "colorbar": {
                          "outlinewidth": 0,
                          "ticks": ""
                        },
                        "type": "mesh3d"
                      }
                    ],
                    "parcoords": [
                      {
                        "line": {
                          "colorbar": {
                            "outlinewidth": 0,
                            "ticks": ""
                          }
                        },
                        "type": "parcoords"
                      }
                    ],
                    "pie": [
                      {
                        "automargin": true,
                        "type": "pie"
                      }
                    ],
                    "scatter": [
                      {
                        "fillpattern": {
                          "fillmode": "overlay",
                          "size": 10,
                          "solidity": 0.2
                        },
                        "type": "scatter"
                      }
                    ],
                    "scatter3d": [
                      {
                        "line": {
                          "colorbar": {
                            "outlinewidth": 0,
                            "ticks": ""
                          }
                        },
                        "marker": {
                          "colorbar": {
                            "outlinewidth": 0,
                            "ticks": ""
                          }
                        },
                        "type": "scatter3d"
                      }
                    ],
                    "scattercarpet": [
                      {
                        "marker": {
                          "colorbar": {
                            "outlinewidth": 0,
                            "ticks": ""
                          }
                        },
                        "type": "scattercarpet"
                      }
                    ],
                    "scattergeo": [
                      {
                        "marker": {
                          "colorbar": {
                            "outlinewidth": 0,
                            "ticks": ""
                          }
                        },
                        "type": "scattergeo"
                      }
                    ],
                    "scattergl": [
                      {
                        "marker": {
                          "colorbar": {
                            "outlinewidth": 0,
                            "ticks": ""
                          }
                        },
                        "type": "scattergl"
                      }
                    ],
                    "scattermapbox": [
                      {
                        "marker": {
                          "colorbar": {
                            "outlinewidth": 0,
                            "ticks": ""
                          }
                        },
                        "type": "scattermapbox"
                      }
                    ],
                    "scatterpolar": [
                      {
                        "marker": {
                          "colorbar": {
                            "outlinewidth": 0,
                            "ticks": ""
                          }
                        },
                        "type": "scatterpolar"
                      }
                    ],
                    "scatterpolargl": [
                      {
                        "marker": {
                          "colorbar": {
                            "outlinewidth": 0,
                            "ticks": ""
                          }
                        },
                        "type": "scatterpolargl"
                      }
                    ],
                    "scatterternary": [
                      {
                        "marker": {
                          "colorbar": {
                            "outlinewidth": 0,
                            "ticks": ""
                          }
                        },
                        "type": "scatterternary"
                      }
                    ],
                    "surface": [
                      {
                        "colorbar": {
                          "outlinewidth": 0,
                          "ticks": ""
                        },
                        "colorscale": [
                          [
                            0,
                            "#0d0887"
                          ],
                          [
                            0.1111111111111111,
                            "#46039f"
                          ],
                          [
                            0.2222222222222222,
                            "#7201a8"
                          ],
                          [
                            0.3333333333333333,
                            "#9c179e"
                          ],
                          [
                            0.4444444444444444,
                            "#bd3786"
                          ],
                          [
                            0.5555555555555556,
                            "#d8576b"
                          ],
                          [
                            0.6666666666666666,
                            "#ed7953"
                          ],
                          [
                            0.7777777777777778,
                            "#fb9f3a"
                          ],
                          [
                            0.8888888888888888,
                            "#fdca26"
                          ],
                          [
                            1,
                            "#f0f921"
                          ]
                        ],
                        "type": "surface"
                      }
                    ],
                    "table": [
                      {
                        "cells": {
                          "fill": {
                            "color": "#EBF0F8"
                          },
                          "line": {
                            "color": "white"
                          }
                        },
                        "header": {
                          "fill": {
                            "color": "#C8D4E3"
                          },
                          "line": {
                            "color": "white"
                          }
                        },
                        "type": "table"
                      }
                    ]
                  },
                  "layout": {
                    "annotationdefaults": {
                      "arrowcolor": "#2a3f5f",
                      "arrowhead": 0,
                      "arrowwidth": 1
                    },
                    "autotypenumbers": "strict",
                    "coloraxis": {
                      "colorbar": {
                        "outlinewidth": 0,
                        "ticks": ""
                      }
                    },
                    "colorscale": {
                      "diverging": [
                        [
                          0,
                          "#8e0152"
                        ],
                        [
                          0.1,
                          "#c51b7d"
                        ],
                        [
                          0.2,
                          "#de77ae"
                        ],
                        [
                          0.3,
                          "#f1b6da"
                        ],
                        [
                          0.4,
                          "#fde0ef"
                        ],
                        [
                          0.5,
                          "#f7f7f7"
                        ],
                        [
                          0.6,
                          "#e6f5d0"
                        ],
                        [
                          0.7,
                          "#b8e186"
                        ],
                        [
                          0.8,
                          "#7fbc41"
                        ],
                        [
                          0.9,
                          "#4d9221"
                        ],
                        [
                          1,
                          "#276419"
                        ]
                      ],
                      "sequential": [
                        [
                          0,
                          "#0d0887"
                        ],
                        [
                          0.1111111111111111,
                          "#46039f"
                        ],
                        [
                          0.2222222222222222,
                          "#7201a8"
                        ],
                        [
                          0.3333333333333333,
                          "#9c179e"
                        ],
                        [
                          0.4444444444444444,
                          "#bd3786"
                        ],
                        [
                          0.5555555555555556,
                          "#d8576b"
                        ],
                        [
                          0.6666666666666666,
                          "#ed7953"
                        ],
                        [
                          0.7777777777777778,
                          "#fb9f3a"
                        ],
                        [
                          0.8888888888888888,
                          "#fdca26"
                        ],
                        [
                          1,
                          "#f0f921"
                        ]
                      ],
                      "sequentialminus": [
                        [
                          0,
                          "#0d0887"
                        ],
                        [
                          0.1111111111111111,
                          "#46039f"
                        ],
                        [
                          0.2222222222222222,
                          "#7201a8"
                        ],
                        [
                          0.3333333333333333,
                          "#9c179e"
                        ],
                        [
                          0.4444444444444444,
                          "#bd3786"
                        ],
                        [
                          0.5555555555555556,
                          "#d8576b"
                        ],
                        [
                          0.6666666666666666,
                          "#ed7953"
                        ],
                        [
                          0.7777777777777778,
                          "#fb9f3a"
                        ],
                        [
                          0.8888888888888888,
                          "#fdca26"
                        ],
                        [
                          1,
                          "#f0f921"
                        ]
                      ]
                    },
                    "colorway": [
                      "#636efa",
                      "#EF553B",
                      "#00cc96",
                      "#ab63fa",
                      "#FFA15A",
                      "#19d3f3",
                      "#FF6692",
                      "#B6E880",
                      "#FF97FF",
                      "#FECB52"
                    ],
                    "font": {
                      "color": "#2a3f5f"
                    },
                    "geo": {
                      "bgcolor": "white",
                      "lakecolor": "white",
                      "landcolor": "#E5ECF6",
                      "showlakes": true,
                      "showland": true,
                      "subunitcolor": "white"
                    },
                    "hoverlabel": {
                      "align": "left"
                    },
                    "hovermode": "closest",
                    "mapbox": {
                      "style": "light"
                    },
                    "paper_bgcolor": "white",
                    "plot_bgcolor": "#E5ECF6",
                    "polar": {
                      "angularaxis": {
                        "gridcolor": "white",
                        "linecolor": "white",
                        "ticks": ""
                      },
                      "bgcolor": "#E5ECF6",
                      "radialaxis": {
                        "gridcolor": "white",
                        "linecolor": "white",
                        "ticks": ""
                      }
                    },
                    "scene": {
                      "xaxis": {
                        "backgroundcolor": "#E5ECF6",
                        "gridcolor": "white",
                        "gridwidth": 2,
                        "linecolor": "white",
                        "showbackground": true,
                        "ticks": "",
                        "zerolinecolor": "white"
                      },
                      "yaxis": {
                        "backgroundcolor": "#E5ECF6",
                        "gridcolor": "white",
                        "gridwidth": 2,
                        "linecolor": "white",
                        "showbackground": true,
                        "ticks": "",
                        "zerolinecolor": "white"
                      },
                      "zaxis": {
                        "backgroundcolor": "#E5ECF6",
                        "gridcolor": "white",
                        "gridwidth": 2,
                        "linecolor": "white",
                        "showbackground": true,
                        "ticks": "",
                        "zerolinecolor": "white"
                      }
                    },
                    "shapedefaults": {
                      "line": {
                        "color": "#2a3f5f"
                      }
                    },
                    "ternary": {
                      "aaxis": {
                        "gridcolor": "white",
                        "linecolor": "white",
                        "ticks": ""
                      },
                      "baxis": {
                        "gridcolor": "white",
                        "linecolor": "white",
                        "ticks": ""
                      },
                      "bgcolor": "#E5ECF6",
                      "caxis": {
                        "gridcolor": "white",
                        "linecolor": "white",
                        "ticks": ""
                      }
                    },
                    "title": {
                      "x": 0.05
                    },
                    "xaxis": {
                      "automargin": true,
                      "gridcolor": "white",
                      "linecolor": "white",
                      "ticks": "",
                      "title": {
                        "standoff": 15
                      },
                      "zerolinecolor": "white",
                      "zerolinewidth": 2
                    },
                    "yaxis": {
                      "automargin": true,
                      "gridcolor": "white",
                      "linecolor": "white",
                      "ticks": "",
                      "title": {
                        "standoff": 15
                      },
                      "zerolinecolor": "white",
                      "zerolinewidth": 2
                    }
                  }
                },
                "title": {
                  "text": "Ground Truth Random-Contious 2d-Function"
                },
                "width": 800
              }
            }
          },
          "metadata": {},
          "output_type": "display_data"
        },
        {
          "data": {
            "text/plain": [
              "array([1., 1., 1.])"
            ]
          },
          "execution_count": 44,
          "metadata": {},
          "output_type": "execute_result"
        }
      ],
      "source": [
        "#TRY: stationary\n",
        "def skernel(x1,x2,hps,obj):\n",
        "    #The kernel follows the mathematical definition of a kernel. This\n",
        "    #means there is no limit to the variety of kernels you can define.\n",
        "    d = np.linalg.norm(x1 - x2) #obj.get_distance_matrix(x1,x2)\n",
        "    return hps[0] * obj.matern_kernel_diff1(d,hps[1])\n",
        "\n",
        "\n",
        "#### GP quick-test???\n",
        "START=time.time()\n",
        "my_ae = AutonomousExperimenterGP(domain,\n",
        "                                 np.ones((3)),\n",
        "                                 np.array([[0.001,100.],[0.001,100.], [0.001,100.]]), ## limits\n",
        "                                 init_dataset_size= 20,\n",
        "                                 instrument_function = instrument,\n",
        "                                 cost_function_parameters={\"offset\": 5.0,\"slope\":10.0},\n",
        "                                 store_inv = True)\n",
        "my_ae.train(method = \"hgdl\")      ### trains the kernel, to find optimial hyperparameters given the intiially-random data\n",
        "my_ae.go(len(my_ae.x_data) + 40)  ### runs the Autonomous Experiment\n",
        "my_ae.train(method = \"hgdl\")\n",
        "print(time.time()-START)\n",
        "\n",
        "fig = go.Figure()\n",
        "\n",
        "fig.add_trace(go.Scatter3d(x=f.D_ix[:,0], y=f.D_ix[:,1], z=f.D_iX[:,0], mode='markers', name=\"RCF (ground truth)\"))\n",
        "fig.add_trace(go.Scatter3d(x=my_ae.x_data[:,0], y=my_ae.x_data[:,1], z=my_ae.y_data, mode='markers', name=\"gpCAM\"))\n",
        "\n",
        "fig.update_layout(title='Ground Truth Random-Contious 2d-Function', autosize=True, width=800, height=800, margin=dict(l=65, r=50, b=65, t=90))\n",
        "fig.show()\n",
        "\n",
        "my_ae.hyperparameters"
      ]
    },
    {
      "cell_type": "code",
      "execution_count": null,
      "metadata": {
        "id": "NSg2XjPqWh1u"
      },
      "outputs": [],
      "source": []
    }
  ],
  "metadata": {
    "kernelspec": {
      "display_name": "base",
      "language": "python",
      "name": "python3"
    },
    "language_info": {
      "codemirror_mode": {
        "name": "ipython",
        "version": 3
      },
      "file_extension": ".py",
      "mimetype": "text/x-python",
      "name": "python",
      "nbconvert_exporter": "python",
      "pygments_lexer": "ipython3",
      "version": "3.11.6"
    },
    "colab": {
      "provenance": [],
      "include_colab_link": true
    }
  },
  "nbformat": 4,
  "nbformat_minor": 0
}