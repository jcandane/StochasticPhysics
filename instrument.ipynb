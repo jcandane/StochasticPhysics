{
  "cells": [
    {
      "cell_type": "markdown",
      "metadata": {
        "id": "view-in-github",
        "colab_type": "text"
      },
      "source": [
        "<a href=\"https://colab.research.google.com/github/jcandane/StochasticPhysics/blob/main/instrument.ipynb\" target=\"_parent\"><img src=\"https://colab.research.google.com/assets/colab-badge.svg\" alt=\"Open In Colab\"/></a>"
      ]
    },
    {
      "cell_type": "markdown",
      "metadata": {
        "id": "qIHBXOAUaVMB"
      },
      "source": [
        "# import stuff\n",
        "\n",
        "Also include default test cases"
      ]
    },
    {
      "cell_type": "code",
      "execution_count": null,
      "metadata": {
        "id": "bP8NbRSMaVME",
        "outputId": "633fa632-85e3-448b-e89e-003c8f5abeb4"
      },
      "outputs": [
        {
          "name": "stdout",
          "output_type": "stream",
          "text": [
            "3.182755708694458\n"
          ]
        }
      ],
      "source": [
        "import numpy as np\n",
        "import gpcam\n",
        "from gpcam import AutonomousExperimenterGP\n",
        "import time\n",
        "import h5py ## https://docs.h5py.org/en/stable/quick.html\n",
        "import datetime\n",
        "\n",
        "data_labels=[\"x_data\", \"y_data\", \"noise variance\", \"cost\", \"id\", \"time stamp\", \"date time\", \"measured\"]\n",
        "list_of_data=[{'x_data': np.array([3.04986762, 4.66446892]),\n",
        "  'y_data': -0.6519311743614136,\n",
        "  'noise variance': None,\n",
        "  'cost': [np.array([0, 0]), np.array([3.04986762, 4.66446892]), 7.714336536446131],\n",
        "  'id': '3b115847-cbe5-4c19-b2c9-0004455f8a52',\n",
        "  'time stamp': 1705512086.8447511,\n",
        "  'date time': '17/01/2024_11:21:26',\n",
        "  'measured': False},\n",
        " {'x_data': np.array([1.07469298, 6.04996553]),\n",
        "  'y_data': -0.13806646827231991,\n",
        "  'noise variance': None,\n",
        "  'cost': [np.array([0, 0]), np.array([1.07469298, 6.04996553]), 7.124658510619914],\n",
        "  'id': 'e343a7e8-b133-415e-a69f-6768438e6934',\n",
        "  'time stamp': 1705512086.844794,\n",
        "  'date time': '17/01/2024_11:21:26',\n",
        "  'measured': False},\n",
        " {'x_data': np.array([4.54385235, 6.1862373 ]),\n",
        "  'y_data': 0.9841470549061848,\n",
        "  'noise variance': None,\n",
        "  'cost': [np.array([0, 0]), np.array([4.54385235, 6.1862373 ]), 10.730089647376804],\n",
        "  'id': '1e7a8bc2-9e1e-4f92-b5e0-f8205b63f259',\n",
        "  'time stamp': 1705512086.844807,\n",
        "  'date time': '17/01/2024_11:21:26',\n",
        "  'measured': False},\n",
        " {'x_data': np.array([0.36948575, 7.26536243]), \"y_data\": None }]\n",
        "\n",
        "\n",
        "def instrument0(data):\n",
        "    \"\"\"\n",
        "    GIVEN : data (List[dic]) gpCAM only gives the data it is using at-the-moment\n",
        "    \"\"\"\n",
        "    for entry in data:\n",
        "        entry[\"y_data\"] = np.sin(np.linalg.norm(entry[\"x_data\"]))\n",
        "        entry[\"cost\"]   = [np.array([0,0]),entry[\"x_data\"],np.sum(entry[\"x_data\"])]\n",
        "    return data\n",
        "\n",
        "#### GP quick-test???\n",
        "START=time.time()\n",
        "my_ae = AutonomousExperimenterGP(np.array([[0,10],[0,10]]),\n",
        "                                 np.ones((3)),\n",
        "                                 np.array([[0.001,100.],[0.001,100.],[0.001,100.]]), ## limits\n",
        "                                 init_dataset_size= 20,\n",
        "                                 instrument_function = instrument0,\n",
        "                                 cost_function_parameters={\"offset\": 5.0,\"slope\":10.0},\n",
        "                                 store_inv = True)\n",
        "my_ae.train(method = \"hgdl\")      ### trains the kernel, to find optimial hyperparameters given the intiially-random data\n",
        "my_ae.go(len(my_ae.x_data) + 10)  ### runs the Autonomous Experiment\n",
        "print(time.time()-START)"
      ]
    },
    {
      "cell_type": "code",
      "execution_count": null,
      "metadata": {
        "id": "Yyn6mppUaVMH"
      },
      "outputs": [],
      "source": [
        "######\n",
        "def math_function(x_data):\n",
        "    return np.sin(np.linalg.norm(x_data, axis=1))\n",
        "\n",
        "\n",
        "def gpcam_to_h5(data, filename=\"to_vintrument.h5\"):\n",
        "    \"\"\"\n",
        "    this function reads gpcam's data, and creates an h5 file (to be read by the intrument)\n",
        "    GIVEN : data : List[dic]\n",
        "    \"\"\"\n",
        "\n",
        "    to_analyze=[]\n",
        "    for entry in data:\n",
        "        to_analyze.append(entry[\"x_data\"])\n",
        "    to_analyze = np.asarray(to_analyze) ## make into a np.array, D_ax\n",
        "\n",
        "    h5f = h5py.File(filename, \"w\")\n",
        "    h5f.create_dataset(\"dataset_1\", data=to_analyze)\n",
        "    h5f.close()\n",
        "    return None\n",
        "\n",
        "def h5_to_vinstrument(filename=\"to_vintrument.h5\"):\n",
        "    \"\"\"\n",
        "    this function reads a h5 file, to obtain a 2d-numpy.array (to be used by the virtual-intrument)\n",
        "    GIVEN :\n",
        "    GET   :\n",
        "    \"\"\"\n",
        "\n",
        "    h5f    = h5py.File(filename, \"r\")\n",
        "    x_data = np.asarray(h5f.get('dataset_1'))\n",
        "    h5f.close()\n",
        "\n",
        "    return x_data ### numpy.array of dimensions ( samples , coordinates ) i.e. D_ax\n",
        "\n",
        "def vinstrument_to_h5(y_data, filename=\"from_vintrument.h5\"):\n",
        "    \"\"\"\n",
        "    this function obtained the vintrument's y_data, along with other meta-data saves to an h5\n",
        "    GIVEN : y_data (D_aX)\n",
        "    \"\"\"\n",
        "\n",
        "    h5f = h5py.File(filename, \"w\")\n",
        "    h5f.create_dataset(\"dataset_1\", data=y_data)\n",
        "    h5f.close()\n",
        "    return None\n",
        "\n",
        "def h5_to_gpcam(data, filename=\"from_vintrument.h5\"):\n",
        "    \"\"\"\n",
        "    this function updates gpcam's 'data' variable (List[dic]), by reading a h5 file.\n",
        "    \"\"\"\n",
        "    h5f    = h5py.File(filename, \"r\")\n",
        "    y_data = np.asarray(h5f[\"dataset_1\"]) ## D_aX\n",
        "    h5f.close()\n",
        "\n",
        "    for a, entry in enumerate(data):\n",
        "        entry[\"y_data\"] = y_data[a]\n",
        "\n",
        "    return data\n",
        "\n",
        "def vinstrument():\n",
        "\n",
        "    x_data = h5_to_vinstrument()\n",
        "\n",
        "    y_data = math_function(x_data)\n",
        "\n",
        "    vinstrument_to_h5(y_data)\n",
        "\n",
        "    return None\n",
        "\n",
        "def instrument(data):\n",
        "\n",
        "    ### gpcam -> h5 (x-coordinates only)\n",
        "    gpcam_to_h5(data)\n",
        "\n",
        "    ### vintrument()\n",
        "    vinstrument()\n",
        "\n",
        "    ### h5 -> gpcam (everything)\n",
        "    data = h5_to_gpcam(data)\n",
        "\n",
        "    return data"
      ]
    },
    {
      "cell_type": "markdown",
      "metadata": {
        "id": "YhhEV9WFaVMH"
      },
      "source": [
        "## gpCAM run with $\\texttt{vinstrument}$"
      ]
    },
    {
      "cell_type": "code",
      "execution_count": null,
      "metadata": {
        "id": "YP37EPpPaVMI",
        "outputId": "a3c5b193-d3b4-4a7a-b2a5-e5b68a6410f2"
      },
      "outputs": [
        {
          "name": "stdout",
          "output_type": "stream",
          "text": [
            "2.59155011177063\n"
          ]
        }
      ],
      "source": [
        "#### GP quick-test???\n",
        "START=time.time()\n",
        "my_ae = AutonomousExperimenterGP(np.array([[0,10],[0,10]]),\n",
        "                                 np.ones((3)),\n",
        "                                 np.array([[0.001,100.],[0.001,100.],[0.001,100.]]), ## limits\n",
        "                                 init_dataset_size= 20,\n",
        "                                 instrument_function = instrument,\n",
        "                                 cost_function_parameters={\"offset\": 5.0,\"slope\":10.0},\n",
        "                                 store_inv = True)\n",
        "my_ae.train(method = \"hgdl\")      ### trains the kernel, to find optimial hyperparameters given the intiially-random data\n",
        "my_ae.go(len(my_ae.x_data) + 10)  ### runs the Autonomous Experiment\n",
        "print(time.time()-START)"
      ]
    }
  ],
  "metadata": {
    "kernelspec": {
      "display_name": "base",
      "language": "python",
      "name": "python3"
    },
    "language_info": {
      "codemirror_mode": {
        "name": "ipython",
        "version": 3
      },
      "file_extension": ".py",
      "mimetype": "text/x-python",
      "name": "python",
      "nbconvert_exporter": "python",
      "pygments_lexer": "ipython3",
      "version": "3.11.6"
    },
    "colab": {
      "provenance": [],
      "include_colab_link": true
    }
  },
  "nbformat": 4,
  "nbformat_minor": 0
}