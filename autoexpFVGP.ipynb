{
  "cells": [
    {
      "cell_type": "markdown",
      "metadata": {
        "id": "view-in-github",
        "colab_type": "text"
      },
      "source": [
        "<a href=\"https://colab.research.google.com/github/jcandane/StochasticPhysics/blob/main/autoexpFVGP.ipynb\" target=\"_parent\"><img src=\"https://colab.research.google.com/assets/colab-badge.svg\" alt=\"Open In Colab\"/></a>"
      ]
    },
    {
      "cell_type": "code",
      "execution_count": null,
      "metadata": {
        "id": "hG3pB6nm6GHt"
      },
      "outputs": [],
      "source": [
        "import numpy as np\n",
        "import scipy\n",
        "import gpcam\n",
        "from gpcam.autonomous_experimenter import AutonomousExperimenterFvGP\n",
        "\n",
        "import matplotlib.pyplot as plt\n",
        "from scipy.interpolate import griddata\n",
        "import plotly.graph_objects as go\n",
        "\n",
        "def plot(x,y,z,data = None):\n",
        "    fig = go.Figure()\n",
        "    fig.add_trace(go.Surface(x = x, y = y,z=z))\n",
        "    if data is not None:\n",
        "        fig.add_trace(go.Scatter3d(x=data[:,0], y=data[:,1], z=data[:,2],\n",
        "                                   mode='markers'))\n",
        "\n",
        "    fig.update_layout(title='Posterior Mean', autosize=True,\n",
        "                  width=800, height=800,\n",
        "                  margin=dict(l=65, r=50, b=65, t=90))\n",
        "\n",
        "\n",
        "    fig.show()\n",
        "    return None"
      ]
    },
    {
      "cell_type": "markdown",
      "metadata": {
        "id": "LLeDA7s56GHx"
      },
      "source": [
        "https://gpcam.readthedocs.io/en/latest/examples/advanced_test.html#running-a-multi-task-gp-autonomous-data-acquisition\n"
      ]
    },
    {
      "cell_type": "code",
      "execution_count": null,
      "metadata": {
        "id": "Uggzrb1I6GHy",
        "outputId": "310efaf7-ad20-405d-8fde-4ad08e76627a"
      },
      "outputs": [
        {
          "name": "stdout",
          "output_type": "stream",
          "text": [
            "(4449, 28)\n"
          ]
        }
      ],
      "source": [
        "data = np.load(\"sarcos.npy\") ###np.load(\"./data/sarcos.npy\")\n",
        "print(data.shape)\n",
        "x = data[:,0:21]\n",
        "y = data[:,21:23]"
      ]
    },
    {
      "cell_type": "markdown",
      "metadata": {
        "id": "Wsy3RYxH6GHz"
      },
      "source": [
        "## here we run fvGP with RCF!!"
      ]
    },
    {
      "cell_type": "code",
      "execution_count": null,
      "metadata": {
        "id": "qfEw2vS16GHz",
        "outputId": "e7a59a92-8c7d-4e5c-a147-612fd6bc2c07"
      },
      "outputs": [
        {
          "name": "stdout",
          "output_type": "stream",
          "text": [
            "index set (input space) bounds:\n",
            "[[ -0.842481   0.661032]\n",
            " [ -0.939933  -0.085018]\n",
            " [ -0.46773    0.359348]\n",
            " [  0.797788   2.239407]\n",
            " [ -0.242241   1.278097]\n",
            " [ -0.919895   0.369078]\n",
            " [ -0.296364   0.686928]\n",
            " [ -4.771399   4.488624]\n",
            " [ -1.634053   2.289369]\n",
            " [ -2.884804   2.558282]\n",
            " [ -4.196409   3.734968]\n",
            " [ -3.067483   2.380553]\n",
            " [ -2.433971   1.978575]\n",
            " [ -3.180643   2.568279]\n",
            " [-48.072386  48.872604]\n",
            " [-25.585054  25.225171]\n",
            " [-24.697862  26.106756]\n",
            " [-36.19139   71.176937]\n",
            " [-38.485967  35.804308]\n",
            " [-22.103174  17.84188 ]\n",
            " [-36.502723  30.806254]]\n",
            "\n",
            "-----------------------\n",
            "-----------------------\n",
            "-----------------------\n"
          ]
        }
      ],
      "source": [
        "import h5py ## https://docs.h5py.org/en/stable/quick.html\n",
        "\n",
        "\n",
        "#### inputspace\n",
        "input_s = np.array([np.array([np.min(x[:,i]),np.max(x[:,i])]) for i in range(len(x[0]))])\n",
        "print(\"index set (input space) bounds:\")\n",
        "print(input_s)\n",
        "\n",
        "domain = np.array([[ 0.0, 1.0],\n",
        "                   [-0.5,  0.7]])\n",
        "input_s = domain\n",
        "\n",
        "from RCF import RCF ### !!!!!\n",
        "\n",
        "dr_x   = np.array([0.1])\n",
        "domain = np.array([[ 0.0, 10.0]])\n",
        "\n",
        "f = RCF(input_s, 2, D=2, ξ=2)\n",
        "\n",
        "\n",
        "def instrument(data, instrument_dict = {}):\n",
        "    for entry in data:\n",
        "        #print(\"Suggested by gpCAM: \", entry[\"x_data\"])\n",
        "        #entry[\"y_data\"] = griddata(x,y,entry[\"x_data\"],method = \"nearest\", fill_value = 0)[0]\n",
        "        entry[\"y_data\"] = f.evalulate(np.asarray([entry[\"x_data\"]])) #.flatten() ##\n",
        "        entry[\"output positions\"] = np.array([[0],[1]])\n",
        "        #print(\"received: \", entry[\"y_data\"])\n",
        "    print(\"\")\n",
        "    return data\n",
        "\n",
        "\n",
        "#################################\n",
        "def math_function(x_data):\n",
        "    return f.evalulate(x_data)\n",
        "\n",
        "def gpcam_to_h5(data, filename=\"to_vintrument.h5\"):\n",
        "    \"\"\" this function reads gpcam's data, and creates an h5 file (to be read by the instrument)\n",
        "    GIVEN   > data : List[dict] (gpCAM dataset datatype, !contains various datatypes)\n",
        "              **filename : str (optional, str specifying the output h5 file)\n",
        "    GET     > None\n",
        "    \"\"\"\n",
        "\n",
        "    to_analyze=[]\n",
        "    for entry in data:\n",
        "        to_analyze.append(entry[\"x_data\"])\n",
        "    to_analyze = np.asarray(to_analyze) ## make into a np.array, D_ax\n",
        "\n",
        "    h5f = h5py.File(filename, \"w\")\n",
        "    h5f.create_dataset(\"dataset_1\", data=to_analyze)\n",
        "    h5f.close()\n",
        "    return None\n",
        "\n",
        "def h5_to_vinstrument(filename=\"to_vintrument.h5\"):\n",
        "    \"\"\"\n",
        "    this function reads a h5 file, to obtain a 2d-numpy.array (to be used by the virtual-intrument)\n",
        "    GIVEN > **filename : str\n",
        "    GET   > x_data : np.ndarray{2d} (D_ax, 1st-index enumerates snapshots, 2nd-index enumerates IN-coordiante, i.e. D_ax)\n",
        "    \"\"\"\n",
        "\n",
        "    h5f    = h5py.File(filename, \"r\")\n",
        "    x_data = np.asarray(h5f.get('dataset_1'))\n",
        "    h5f.close()\n",
        "    return x_data ### numpy.array of dimensions ( samples , coordinates ) i.e. D_ax\n",
        "\n",
        "def vinstrument_to_h5(y_data, filename=\"from_vintrument.h5\"):\n",
        "    \"\"\"\n",
        "    this function obtained the vintrument's y_data, along with other meta-data saves to an h5\n",
        "    GIVEN > y_data : np.ndarray{2d} (2d-np.array, 1st-index : data-entry number, 2nd-index : OUT-coordinate, i.e. D_aX)\n",
        "    GET >   None\n",
        "    \"\"\"\n",
        "\n",
        "    h5f = h5py.File(filename, \"w\")\n",
        "    h5f.create_dataset(\"dataset_1\", data=y_data)\n",
        "    h5f.close()\n",
        "    return None\n",
        "\n",
        "def h5_to_gpcam(data, filename=\"from_vintrument.h5\"):\n",
        "    \"\"\" this function updates gpcam's \"data\" variable (List[dict]), by reading a h5 file.\n",
        "    GIVEN > data : List[dict] (gpCAM dataset datatype, !contains various datatypes)\n",
        "            **filename : str (optional, str specifying the input h5 file)\n",
        "    GET   > data : List[dict] (gpCAM dataset datatype, !contains various datatypes)\n",
        "    \"\"\"\n",
        "    h5f    = h5py.File(filename, \"r\")\n",
        "    y_data = np.asarray(h5f[\"dataset_1\"]) ## D_aX\n",
        "    h5f.close()\n",
        "\n",
        "    for a, entry in enumerate(data):\n",
        "        entry[\"y_data\"] = np.asarray([y_data[a]]) ### this should have the shape of (2,1) as given in instrument\n",
        "        entry[\"output positions\"] = np.asarray([np.arange(len(y_data[a]))]).T #np.array([[0],[1]]) ### this is important for fvGP object!\n",
        "\n",
        "    return data\n",
        "\n",
        "def vinstrument():\n",
        "    \"\"\" python-function for virtual-instrument, reads and writes h5 files\n",
        "    GIVEN > None\n",
        "    GET   > None\n",
        "    \"\"\"\n",
        "\n",
        "    x_data = h5_to_vinstrument()\n",
        "\n",
        "    y_data = math_function(x_data)\n",
        "\n",
        "    vinstrument_to_h5(y_data)\n",
        "\n",
        "    return None\n",
        "\n",
        "def Instrument(data):\n",
        "\n",
        "    ### gpcam -> h5 (x-coordinates only)\n",
        "    gpcam_to_h5(data)\n",
        "\n",
        "    ### vintrument()\n",
        "    vinstrument()\n",
        "\n",
        "    ### h5 -> gpcam (everything)\n",
        "    data = h5_to_gpcam(data)\n",
        "\n",
        "    return data\n",
        "#################################\n",
        "\n",
        "my_fvae = AutonomousExperimenterFvGP(input_s,2,1,\n",
        "                                     init_dataset_size= 25, instrument_function = instrument\n",
        "                                     ) ##acquisition_function=acq_func\n",
        "print(\"-----------------------\")\n",
        "\n",
        "my_fvaee = AutonomousExperimenterFvGP(input_s,2,1,\n",
        "                                     init_dataset_size= 25, instrument_function = Instrument\n",
        "                                     ) ##acquisition_function=acq_func\n",
        "\n",
        "print(\"-----------------------\")\n",
        "my_fvaee.train()\n",
        "print(\"-----------------------\")\n",
        "my_fvaee.go(50) #, retrain_async_at=(22,), retrain_globally_at=(50,90,120), retrain_locally_at=(25,))"
      ]
    },
    {
      "cell_type": "code",
      "execution_count": null,
      "metadata": {
        "id": "LkZVU4HI6GH0"
      },
      "outputs": [],
      "source": []
    }
  ],
  "metadata": {
    "kernelspec": {
      "display_name": "base",
      "language": "python",
      "name": "python3"
    },
    "language_info": {
      "codemirror_mode": {
        "name": "ipython",
        "version": 3
      },
      "file_extension": ".py",
      "mimetype": "text/x-python",
      "name": "python",
      "nbconvert_exporter": "python",
      "pygments_lexer": "ipython3",
      "version": "3.11.6"
    },
    "colab": {
      "provenance": [],
      "include_colab_link": true
    }
  },
  "nbformat": 4,
  "nbformat_minor": 0
}